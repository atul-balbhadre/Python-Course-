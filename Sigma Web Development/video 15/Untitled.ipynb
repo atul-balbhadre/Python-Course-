{
 "cells": [
  {
   "cell_type": "raw",
   "id": "52d0f0ac-7698-4e56-8e4b-f4ee579b2743",
   "metadata": {},
   "source": [
    "print(\"Hell0\")"
   ]
  },
  {
   "cell_type": "code",
   "execution_count": 1,
   "id": "3cc7264c-a6c4-4c1b-88c5-98dec9fb96d9",
   "metadata": {},
   "outputs": [
    {
     "ename": "ModuleNotFoundError",
     "evalue": "No module named 'seaborn'",
     "output_type": "error",
     "traceback": [
      "\u001b[1;31m---------------------------------------------------------------------------\u001b[0m",
      "\u001b[1;31mModuleNotFoundError\u001b[0m                       Traceback (most recent call last)",
      "Cell \u001b[1;32mIn[1], line 2\u001b[0m\n\u001b[0;32m      1\u001b[0m \u001b[38;5;28;01mimport\u001b[39;00m \u001b[38;5;21;01mmatplotlib\u001b[39;00m\u001b[38;5;21;01m.\u001b[39;00m\u001b[38;5;21;01mpyplot\u001b[39;00m \u001b[38;5;28;01mas\u001b[39;00m \u001b[38;5;21;01mplt\u001b[39;00m\n\u001b[1;32m----> 2\u001b[0m \u001b[38;5;28;01mimport\u001b[39;00m \u001b[38;5;21;01mseaborn\u001b[39;00m \u001b[38;5;28;01mas\u001b[39;00m \u001b[38;5;21;01msns\u001b[39;00m\n\u001b[0;32m      3\u001b[0m \u001b[38;5;28;01mimport\u001b[39;00m \u001b[38;5;21;01mnumpy\u001b[39;00m \u001b[38;5;28;01mas\u001b[39;00m \u001b[38;5;21;01mnp\u001b[39;00m\n\u001b[0;32m      5\u001b[0m \u001b[38;5;66;03m# Sample data: 100 students' marks (randomly generated)\u001b[39;00m\n",
      "\u001b[1;31mModuleNotFoundError\u001b[0m: No module named 'seaborn'"
     ]
    }
   ],
   "source": [
    "import matplotlib.pyplot as plt\n",
    "import seaborn as sns\n",
    "import numpy as np\n",
    "\n",
    "# Sample data: 100 students' marks (randomly generated)\n",
    "np.random.seed(42)\n",
    "marks = np.random.normal(loc=70, scale=10, size=100)\n",
    "\n",
    "# Set Seaborn style\n",
    "sns.set(style=\"whitegrid\")\n",
    "\n",
    "# Plotting histogram with KDE\n",
    "plt.figure(figsize=(10, 6))\n",
    "sns.histplot(marks, bins=15, kde=True, color='skyblue')\n",
    "\n",
    "# Add titles and labels\n",
    "plt.title(\"Distribution of Student Marks\", fontsize=16)\n",
    "plt.xlabel(\"Marks\", fontsize=12)\n",
    "plt.ylabel(\"Number of Students\", fontsize=12)\n",
    "\n",
    "# Show plot\n",
    "plt.show()\n"
   ]
  },
  {
   "cell_type": "code",
   "execution_count": null,
   "id": "5188fd2a-6544-4f88-9112-d98418615c25",
   "metadata": {},
   "outputs": [],
   "source": [
    "import matplotlib.pyplot as plt\n",
    "import seaborn as sns\n",
    "import numpy as np\n",
    "\n",
    "# Sample data: 100 students' marks (randomly generated)\n",
    "np.random.seed(42)\n",
    "marks = np.random.normal(loc=70, scale=10, size=100)\n",
    "\n",
    "# Set Seaborn style\n",
    "sns.set(style=\"whitegrid\")\n",
    "\n",
    "# Plotting histogram with KDE\n",
    "plt.figure(figsize=(10, 6))\n",
    "sns.histplot(marks, bins=15, kde=True, color='skyblue')\n",
    "\n",
    "# Add titles and labels\n",
    "plt.title(\"Distribution of Student Marks\", fontsize=16)\n",
    "plt.xlabel(\"Marks\", fontsize=12)\n",
    "plt.ylabel(\"Number of Students\", fontsize=12)\n",
    "\n",
    "# Show plot\n",
    "plt.show()\n"
   ]
  },
  {
   "cell_type": "code",
   "execution_count": null,
   "id": "e34d4cec-4978-4571-be3c-4b412b018d21",
   "metadata": {},
   "outputs": [],
   "source": []
  }
 ],
 "metadata": {
  "kernelspec": {
   "display_name": "Python 3 (ipykernel)",
   "language": "python",
   "name": "python3"
  },
  "language_info": {
   "codemirror_mode": {
    "name": "ipython",
    "version": 3
   },
   "file_extension": ".py",
   "mimetype": "text/x-python",
   "name": "python",
   "nbconvert_exporter": "python",
   "pygments_lexer": "ipython3",
   "version": "3.13.1"
  }
 },
 "nbformat": 4,
 "nbformat_minor": 5
}

{
 "cells": [
  {
   "cell_type": "code",
   "execution_count": null,
   "id": "e0b2393d-7319-47f9-96bf-e4a58902b452",
   "metadata": {},
   "outputs": [],
   "source": [
    "a = [1,2]\n",
    "b = [3,4]"
   ]
  },
  {
   "cell_type": "code",
   "execution_count": 1,
   "id": "e3d2f3a0-7ad5-445f-b50b-07caf8749b2b",
   "metadata": {},
   "outputs": [
    {
     "ename": "ModuleNotFoundError",
     "evalue": "No module named 'sklearn'",
     "output_type": "error",
     "traceback": [
      "\u001b[1;31m---------------------------------------------------------------------------\u001b[0m",
      "\u001b[1;31mModuleNotFoundError\u001b[0m                       Traceback (most recent call last)",
      "Cell \u001b[1;32mIn[1], line 3\u001b[0m\n\u001b[0;32m      1\u001b[0m \u001b[38;5;28;01mimport\u001b[39;00m \u001b[38;5;21;01mpandas\u001b[39;00m \u001b[38;5;28;01mas\u001b[39;00m \u001b[38;5;21;01mpd\u001b[39;00m\n\u001b[1;32m----> 3\u001b[0m \u001b[38;5;28;01mfrom\u001b[39;00m \u001b[38;5;21;01msklearn\u001b[39;00m\u001b[38;5;21;01m.\u001b[39;00m\u001b[38;5;21;01mpreprocessing\u001b[39;00m \u001b[38;5;28;01mimport\u001b[39;00m MinMaxScaler, OneHotEncoder\n\u001b[0;32m      5\u001b[0m \u001b[38;5;28;01mfrom\u001b[39;00m \u001b[38;5;21;01msklearn\u001b[39;00m\u001b[38;5;21;01m.\u001b[39;00m\u001b[38;5;21;01mimpute\u001b[39;00m \u001b[38;5;28;01mimport\u001b[39;00m SimpleImputer\n\u001b[0;32m      8\u001b[0m \u001b[38;5;66;03m# Sample data\u001b[39;00m\n",
      "\u001b[1;31mModuleNotFoundError\u001b[0m: No module named 'sklearn'"
     ]
    }
   ],
   "source": [
    "import pandas as pd\n",
    "\n",
    "from sklearn.preprocessing import MinMaxScaler, OneHotEncoder\n",
    "\n",
    "from sklearn.impute import SimpleImputer\n",
    "\n",
    "\n",
    "# Sample data\n",
    "\n",
    "data = pd.DataFrame({\n",
    "\n",
    "    'Age': [25, 30, None, 45, 40],\n",
    "\n",
    "    'Salary': [50000, 60000, 55000, None, 52000],\n",
    "\n",
    "    'Gender': ['Male', 'Female', 'Female', 'Male', 'Female']\n",
    "\n",
    "})\n",
    "\n",
    "\n",
    "# Handle missing values\n",
    "\n",
    "imputer = SimpleImputer(strategy='mean')\n",
    "\n",
    "data[['Age', 'Salary']] = imputer.fit_transform(data[['Age', 'Salary']])\n",
    "\n",
    "\n",
    "# Normalize numerical features\n",
    "\n",
    "scaler = MinMaxScaler()\n",
    "\n",
    "data[['Age', 'Salary']] = scaler.fit_transform(data[['Age', 'Salary']])\n",
    "\n",
    "\n",
    "# One-hot encode categorical features\n",
    "\n",
    "encoder = OneHotEncoder(sparse_output=False, drop='first')\n",
    "\n",
    "encoded_gender = encoder.fit_transform(data[['Gender']])\n",
    "\n",
    "gender_df = pd.DataFrame(encoded_gender, columns=encoder.get_feature_names_out(['Gender']))\n",
    "\n",
    "\n",
    "# Combine all\n",
    "\n",
    "processed_data = pd.concat([data.drop('Gender', axis=1), gender_df], axis=1)\n",
    "\n",
    "print(processed_data)"
   ]
  },
  {
   "cell_type": "code",
   "execution_count": 3,
   "id": "3e0e3c02-1d9e-4f5d-b125-b18c78a0da7a",
   "metadata": {},
   "outputs": [],
   "source": [
    "import pandas\n"
   ]
  }
 ],
 "metadata": {
  "kernelspec": {
   "display_name": "Python 3 (ipykernel)",
   "language": "python",
   "name": "python3"
  },
  "language_info": {
   "codemirror_mode": {
    "name": "ipython",
    "version": 3
   },
   "file_extension": ".py",
   "mimetype": "text/x-python",
   "name": "python",
   "nbconvert_exporter": "python",
   "pygments_lexer": "ipython3",
   "version": "3.13.1"
  }
 },
 "nbformat": 4,
 "nbformat_minor": 5
}
